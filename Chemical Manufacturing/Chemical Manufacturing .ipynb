{
 "cells": [
  {
   "cell_type": "markdown",
   "id": "5c55cf46",
   "metadata": {},
   "source": [
    "### Import Necessary Libraries"
   ]
  },
  {
   "cell_type": "code",
   "execution_count": 8,
   "id": "8d289607",
   "metadata": {},
   "outputs": [],
   "source": [
    "import pandas as pd\n",
    "import matplotlib.pyplot as plt"
   ]
  },
  {
   "cell_type": "markdown",
   "id": "bdffdbf4",
   "metadata": {},
   "source": [
    "### Define Constants and Variables"
   ]
  },
  {
   "cell_type": "code",
   "execution_count": 9,
   "id": "dcb32e26",
   "metadata": {},
   "outputs": [
    {
     "name": "stdout",
     "output_type": "stream",
     "text": [
      "Profit Contribution for Product K: $4.04\n",
      "Profit Contribution for Product M: $4.27\n"
     ]
    }
   ],
   "source": [
    "# Constants\n",
    "selling_price_primary = 5.70\n",
    "raw_material_x_cost = 1.46\n",
    "raw_material_y_cost = 1.33\n",
    "direct_labor_k = 0.20\n",
    "direct_labor_m = 0.10\n",
    "\n",
    "# Variable costs for primary product\n",
    "variable_cost_k = raw_material_x_cost + direct_labor_k\n",
    "variable_cost_m = raw_material_y_cost + direct_labor_m\n",
    "\n",
    "# Profit contributions\n",
    "profit_contribution_k = selling_price_primary - variable_cost_k\n",
    "profit_contribution_m = selling_price_primary - variable_cost_m\n",
    "\n",
    "# Print profit contributions\n",
    "print(f\"Profit Contribution for Product K: ${profit_contribution_k:.2f}\")\n",
    "print(f\"Profit Contribution for Product M: ${profit_contribution_m:.2f}\")"
   ]
  },
  {
   "cell_type": "markdown",
   "id": "575674c5",
   "metadata": {},
   "source": [
    "### Calculate Profit Contributions for Secondary Products"
   ]
  },
  {
   "cell_type": "code",
   "execution_count": 10,
   "id": "7fe3b9d5",
   "metadata": {},
   "outputs": [
    {
     "name": "stdout",
     "output_type": "stream",
     "text": [
      "Profit Contribution for Secondary Product K: $-0.86\n",
      "Profit Contribution for Secondary Product M: $-0.78\n"
     ]
    }
   ],
   "source": [
    "# Selling prices for secondary products\n",
    "selling_price_k = 0.80\n",
    "selling_price_m = 0.65\n",
    "\n",
    "# Variable costs for secondary products\n",
    "variable_cost_k_secondary = raw_material_x_cost + direct_labor_k\n",
    "variable_cost_m_secondary = raw_material_y_cost + direct_labor_m\n",
    "\n",
    "# Profit contributions for secondary products\n",
    "profit_contribution_k_secondary = selling_price_k - variable_cost_k_secondary\n",
    "profit_contribution_m_secondary = selling_price_m - variable_cost_m_secondary\n",
    "\n",
    "# Print profit contributions for secondary products\n",
    "print(f\"Profit Contribution for Secondary Product K: ${profit_contribution_k_secondary:.2f}\")\n",
    "print(f\"Profit Contribution for Secondary Product M: ${profit_contribution_m_secondary:.2f}\")"
   ]
  },
  {
   "cell_type": "markdown",
   "id": "026e74d1",
   "metadata": {},
   "source": [
    "### Calculate Optimal Production Quantities and Profit"
   ]
  },
  {
   "cell_type": "code",
   "execution_count": 14,
   "id": "718ea501",
   "metadata": {},
   "outputs": [
    {
     "name": "stdout",
     "output_type": "stream",
     "text": [
      "Revenue from Primary Product: $42750.00\n",
      "Total Variable Costs: $24300.00\n",
      "Profit: $18450.00\n"
     ]
    }
   ],
   "source": [
    "# Constraints\n",
    "raw_material_x_available = 7500\n",
    "raw_material_y_available = 9000\n",
    "\n",
    "# Optimal production quantities\n",
    "primary_product_quantity = raw_material_x_available  # 7500 pounds\n",
    "liquid_waste_quantity = primary_product_quantity  # 7500 pounds\n",
    "\n",
    "# Revenue from primary product\n",
    "revenue_primary_product = primary_product_quantity * selling_price_primary\n",
    "\n",
    "# Total variable costs\n",
    "total_variable_costs = (raw_material_x_cost * primary_product_quantity +\n",
    "                         raw_material_y_cost * primary_product_quantity +\n",
    "                         direct_labor_k * primary_product_quantity +\n",
    "                         0.25 * liquid_waste_quantity)  # Special treatment cost\n",
    "\n",
    "# Profit calculation\n",
    "profit = revenue_primary_product - total_variable_costs\n",
    "\n",
    "# Print results\n",
    "print(f\"Revenue from Primary Product: ${revenue_primary_product:.2f}\")\n",
    "print(f\"Total Variable Costs: ${total_variable_costs:.2f}\")\n",
    "print(f\"Profit: ${profit:.2f}\")"
   ]
  },
  {
   "cell_type": "code",
   "execution_count": null,
   "id": "b9d626a8",
   "metadata": {},
   "outputs": [],
   "source": []
  },
  {
   "cell_type": "code",
   "execution_count": null,
   "id": "833a79b3",
   "metadata": {},
   "outputs": [],
   "source": []
  }
 ],
 "metadata": {
  "kernelspec": {
   "display_name": "Python 3 (ipykernel)",
   "language": "python",
   "name": "python3"
  },
  "language_info": {
   "codemirror_mode": {
    "name": "ipython",
    "version": 3
   },
   "file_extension": ".py",
   "mimetype": "text/x-python",
   "name": "python",
   "nbconvert_exporter": "python",
   "pygments_lexer": "ipython3",
   "version": "3.9.13"
  }
 },
 "nbformat": 4,
 "nbformat_minor": 5
}

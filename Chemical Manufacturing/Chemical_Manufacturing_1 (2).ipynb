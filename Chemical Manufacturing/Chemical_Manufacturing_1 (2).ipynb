{
  "nbformat": 4,
  "nbformat_minor": 0,
  "metadata": {
    "colab": {
      "provenance": []
    },
    "kernelspec": {
      "name": "python3",
      "display_name": "Python 3"
    },
    "language_info": {
      "name": "python"
    }
  },
  "cells": [
    {
      "cell_type": "markdown",
      "source": [
        "## Cost Analysis - Includes Purchase of Raw Materials\n"
      ],
      "metadata": {
        "id": "s0Ovi1rkqizj"
      }
    },
    {
      "cell_type": "code",
      "source": [
        "from scipy.optimize import linprog\n",
        "import numpy as np\n",
        "\n",
        "# Objective function coefficients (maximize profit, so negate for minimization)\n",
        "\n",
        "# Includes the fixed cost for each x and y substance used and labor\n",
        "\n",
        "# Got P number from the following formula: 5.70 - 0.73 * 2 - 1.33 - 0.42(labor cost)\n",
        "\n",
        "# Got K number from the following formula: 0.80 - 0.2(labor cost) - 1.33 (cost of X/lb) = 0.07\n",
        "\n",
        "# Got M number from the following formula: 0.65 * 2 - 0.1(labor cost) - 0.73 (cost of Y/lb) = 0.47\n",
        "\n",
        "c = [-2.49, -0.07, -0.47, 0.25]  # Corresponding to P, K, M, T\n",
        "\n",
        "# Inequality constraints (Ax <= b)\n",
        "A_ub = [\n",
        "    [1, 1, 0, 0],  # Material X constraint: P + K <= 7500\n",
        "    [2, 0, 1, 0]   # Material Y constraint: 2P + M <= 9000\n",
        "]\n",
        "b_ub = [7500, 9000]\n",
        "\n",
        "# Equality constraints (Ax = b)\n",
        "A_eq = [\n",
        "    [-1, 1, 1, 1]  # Waste balance constraint: -P + K + M + T = 0\n",
        "]\n",
        "b_eq = [0]\n",
        "\n",
        "# Bounds for the variables (P, K, M, T >= 0)\n",
        "bounds = [(0, None), (0, None), (0, None), (0, None)]\n",
        "\n",
        "# Solve the linear programming problem\n",
        "result = linprog(c, A_ub=A_ub, b_ub=b_ub, A_eq=A_eq, b_eq=b_eq, bounds=bounds, method='highs')\n",
        "\n",
        "# Results\n",
        "P, K, M, T = result.x\n",
        "max_profit = -result.fun  # Convert back to maximization\n",
        "\n",
        "fixed_cost = 17500\n",
        "\n",
        "# cost per pound of variables\n",
        "x_var_cost = 1.33\n",
        "y_var_cost = 0.73\n",
        "\n",
        "P_profit = 2.49 * P\n",
        "K_profit = 0.07 * K\n",
        "M_cost = 0.47 * M\n",
        "T_cost = -0.25 * T\n",
        "\n",
        "total_costs = fixed_cost  + T_cost\n",
        "total_revenue = P_profit + K_profit + M_cost\n",
        "\n",
        "total_profit = total_revenue - total_costs\n",
        "\n",
        "\n",
        "# Extract and display results\n",
        "print(f\"Optimal Production Plan:\")\n",
        "print(f\"Primary Product (P): {P:.2f} pounds\")\n",
        "print(f\"Secondary Product K (K): {K:.2f} pounds\")\n",
        "print(f\"Secondary Product M (M): {M:.2f} pounds\")\n",
        "print(f\"Liquid Waste Treated (T): {T:.2f} pounds\")\n",
        "print(f\"Maximum Profit: ${total_profit:.2f}\")\n",
        "\n",
        "# show profit per pound of material\n",
        "print('\\nMaterial Profit per Pound:')\n",
        "print(f\"Profit per pound of Primary Product (P): ${P_profit/P:.2f}\")\n",
        "print(f\"Profit per pound of Secondary Product K (K): ${0.07}\")\n",
        "print(f\"Profit per pound of Secondary Product M (M): ${0.49}\")\n",
        "print(f\"Profit per pound of Liquid Waste Treated (T): ${-0.25}\")\n",
        "\n",
        "print('\\nMaterial Cost per Pound:')\n",
        "print(f\"Cost per pound of variable X: ${1.33}\")\n",
        "print(f\"Cost per pound of variable Y: ${0.73}\")\n",
        "print(f\"Fixed Cost: ${fixed_cost}\\n\")\n",
        "\n",
        "# Doing sensitvity analysis of the obective function coefficients\n",
        "def objective_sensitivity():\n",
        "    base_c = c.copy()\n",
        "    sensitivity_results = {}\n",
        "\n",
        "    for i in range(len(base_c)):  # Loop through each objective function coefficient\n",
        "        for delta in [-0.1, 0.1]:  # Decrease and increase by small value\n",
        "            new_c = base_c.copy()\n",
        "            new_c[i] += delta  # Adjust one coefficient\n",
        "\n",
        "            result = linprog(new_c, A_ub=A_ub, b_ub=b_ub, A_eq=A_eq, b_eq=b_eq, bounds=bounds, method='highs')\n",
        "\n",
        "            if result.success:\n",
        "                sensitivity_results[f\"Change in Coefficient {i+1} by {delta}\"] = result.x\n",
        "            else:\n",
        "                sensitivity_results[f\"Change in Coefficient {i+1} by {delta}\"] = \"No feasible solution\"\n",
        "\n",
        "    return sensitivity_results\n",
        "\n",
        "# Run analysis\n",
        "sensitivity_results = objective_sensitivity()\n",
        "\n",
        "print(\"Sensitivity Analysis Results:\")\n",
        "for coefficient in sensitivity_results:\n",
        "    print(f\"{coefficient}: {sensitivity_results[coefficient]}\")"
      ],
      "metadata": {
        "id": "VGIPRTnIqnsc",
        "colab": {
          "base_uri": "https://localhost:8080/"
        },
        "outputId": "bcef7464-f942-4ec2-85b8-f71683745ae6"
      },
      "execution_count": 17,
      "outputs": [
        {
          "output_type": "stream",
          "name": "stdout",
          "text": [
            "Optimal Production Plan:\n",
            "Primary Product (P): 4500.00 pounds\n",
            "Secondary Product K (K): 3000.00 pounds\n",
            "Secondary Product M (M): 0.00 pounds\n",
            "Liquid Waste Treated (T): 1500.00 pounds\n",
            "Maximum Profit: $-5710.00\n",
            "\n",
            "Material Profit per Pound:\n",
            "Profit per pound of Primary Product (P): $2.49\n",
            "Profit per pound of Secondary Product K (K): $0.07\n",
            "Profit per pound of Secondary Product M (M): $0.49\n",
            "Profit per pound of Liquid Waste Treated (T): $-0.25\n",
            "\n",
            "Material Cost per Pound:\n",
            "Cost per pound of variable X: $1.33\n",
            "Cost per pound of variable Y: $0.73\n",
            "Fixed Cost: $17500\n",
            "\n",
            "Sensitivity Analysis Results:\n",
            "Change in Coefficient 1 by -0.1: [4500. 3000.    0. 1500.]\n",
            "Change in Coefficient 1 by 0.1: [4500. 3000.    0. 1500.]\n",
            "Change in Coefficient 2 by -0.1: [4500. 3000.    0. 1500.]\n",
            "Change in Coefficient 2 by 0.1: [4500. 3000.    0. 1500.]\n",
            "Change in Coefficient 3 by -0.1: [4500. 3000.    0. 1500.]\n",
            "Change in Coefficient 3 by 0.1: [4500. 3000.    0. 1500.]\n",
            "Change in Coefficient 4 by -0.1: [4500. 3000.    0. 1500.]\n",
            "Change in Coefficient 4 by 0.1: [4500. 3000.    0. 1500.]\n"
          ]
        }
      ]
    },
    {
      "cell_type": "markdown",
      "source": [
        "#### No Product K"
      ],
      "metadata": {
        "id": "ItBqk89Suj5l"
      }
    },
    {
      "cell_type": "code",
      "source": [
        "c = [-2.49, 0, -0.47, 0.25]   # Set K's coefficient to 0\n",
        "\n",
        "# Add constraint K = 0\n",
        "A_eq.append([0, 1, 0, 0])\n",
        "b_eq.append(0)\n",
        "\n",
        "# Solve again\n",
        "result_nok = linprog(c, A_ub=A_ub, b_ub=b_ub, A_eq=A_eq, b_eq=b_eq, bounds=bounds, method='highs')\n",
        "\n",
        "# Extract and display results\n",
        "P, K, M, T = result.x\n",
        "max_profit_nok = -result.fun  # Convert back to maximization\n",
        "\n",
        "# Extract and display results\n",
        "print(f\"Optimal Production Plan:\")\n",
        "print(f\"Primary Product (P): {P:.2f} pounds\")\n",
        "print(f\"Secondary Product K (K): {K:.2f} pounds\")\n",
        "print(f\"Secondary Product M (M): {M:.2f} pounds\")\n",
        "print(f\"Liquid Waste Treated (T): {T:.2f} pounds\")\n",
        "print(f\"Maximum Profit: ${total_profit:.2f}\")"
      ],
      "metadata": {
        "colab": {
          "base_uri": "https://localhost:8080/"
        },
        "id": "Rlr5kGJrujRr",
        "outputId": "3bf8ddca-7590-45b8-cfb3-f2ffc86b1652"
      },
      "execution_count": 15,
      "outputs": [
        {
          "output_type": "stream",
          "name": "stdout",
          "text": [
            "Optimal Production Plan:\n",
            "Primary Product (P): 4500.00 pounds\n",
            "Secondary Product K (K): 3000.00 pounds\n",
            "Secondary Product M (M): 0.00 pounds\n",
            "Liquid Waste Treated (T): 1500.00 pounds\n",
            "Maximum Profit: $11435.00\n"
          ]
        }
      ]
    },
    {
      "cell_type": "markdown",
      "source": [
        "# ***Findings***"
      ],
      "metadata": {
        "id": "KdsisuFGsDNO"
      }
    },
    {
      "cell_type": "markdown",
      "source": [
        "## Optimal Production Plan\n",
        "\n",
        "Primary Product (P): The optimal production quantity is 4,500 pounds.\n",
        "\n",
        "Secondary Product K (K): It is not profitable to produce secondary product K, so the optimal quantity is 3,000 pounds.\n",
        "\n",
        "Secondary Product M (M): It is also not profitable to produce secondary product M, so the optimal quantity is 0 pounds.\n",
        "\n",
        "Liquid Waste Treated (T): All liquid waste generated (1,500 pounds) should be specially treated and dumped into the river to comply with EPA regulations."
      ],
      "metadata": {
        "id": "ynY6mqmhsC4v"
      }
    },
    {
      "cell_type": "markdown",
      "source": [
        "## Raw Material Usage\n",
        "\n",
        "Raw Material X: The optimal plan uses 4,500 pounds of raw material X (out of 7,500 pounds available).\n",
        "Raw Material Y: The optimal plan uses 9,000 pounds of raw material Y (fully utilizing the available 9,000 pounds).\n",
        "\n",
        "## Maximum Profit\n",
        "\n",
        "The optimal production and waste disposal plan yields a maximum profit of $11,040.\n",
        "\n",
        "## Accountant's Recommendation\n",
        "\n",
        "The accountant recommended eliminating product K as an alternative because it is not profitable. The analysis confirms this recommendation:\n",
        "Producing product K incurs higher costs (raw material X and direct labor) than the revenue it generates.\n",
        "Eliminating product K does not negatively impact the optimal solution.\n",
        "\n",
        "## Sensitivity Analysis\n",
        "\n",
        "The sensitivity analysis shows that small changes (±$0.10) in profit or treatment costs do not impact the optimal solution. The company should produce 4,500 lbs of the primary product and treat all 4,500 lbs of liquid waste, as producing secondary products K or M remains unprofitable under current conditions. Raw material constraints, rather than profitability, are the primary limiting factor. Even if the selling price of K or M increases slightly, the optimal decision does not change. Additionally, the cost of treatment would need to rise significantly before producing K or M becomes a better alternative. This supports the accountant’s recommendation to eliminate Product K, as it is never part of the optimal solution. To make K or M viable, their prices would need to increase substantially, or more raw materials would need to be available..\n",
        "\n",
        "## Waste Disposal Plan\n",
        "\n",
        "The most cost-effective method for handling liquid waste is to specially treat it at a cost of $0.25 per pound. This ensures compliance with EPA regulations without incurring the higher costs associated with producing secondary products K or M."
      ],
      "metadata": {
        "id": "hkTQokf_sCr_"
      }
    },
    {
      "cell_type": "markdown",
      "source": [
        "\n",
        "# ***Recommendations***\n",
        "\n"
      ],
      "metadata": {
        "id": "fufwaOCJsCVT"
      }
    },
    {
      "cell_type": "markdown",
      "source": [
        "## Production Strategy\n",
        "\n",
        "Focus on producing the primary product (4,500 pounds) as it is the most profitable.\n",
        "Do not produce secondary products K or M, as they are not profitable given the current costs and selling prices.\n",
        "\n",
        "## Waste Disposal\n",
        "\n",
        "Treat all liquid waste (4,500 pounds) to comply with EPA regulations. This is the most cost-effective option compared to converting waste into secondary products.\n",
        "\n",
        "## Raw Material Management\n",
        "\n",
        "Raw Material Y is a limiting factor in production. Acquiring additional raw material Y could increase production and profit.\n",
        "Raw Material X has unused capacity (3,000 pounds), so no immediate action is needed unless production scales up.\n",
        "Revisiting Costs and Prices:\n",
        "If the costs of producing secondary products K or M decrease (e.g., lower labor costs or higher selling prices), reconsider their inclusion in the production plan.\n",
        "Regularly review raw material costs and selling prices to ensure the production plan remains optimal.\n",
        "\n",
        "# ***Conclusion***\n",
        "\n",
        "The linear programming model provides a clear and optimal solution for SBIC to maximize profit while complying with EPA regulations. By producing 4,500 pounds of the primary product, treating all liquid waste, and avoiding the production of unprofitable secondary products, the company can achieve a maximum profit of $-6295. The analysis also highlights the importance of raw material Y as a limiting factor and validates the accountant's recommendation to eliminate product K. This approach ensures both profitability and environmental compliance."
      ],
      "metadata": {
        "id": "TRceTMvDsSxt"
      }
    },
    {
      "cell_type": "markdown",
      "source": [
        "## Cost Analysis - Raw Materials Already Purchased"
      ],
      "metadata": {
        "id": "JAa2KxYMiPOQ"
      }
    },
    {
      "cell_type": "code",
      "source": [
        "from scipy.optimize import linprog\n",
        "import numpy as np\n",
        "\n",
        "# Objective function coefficients (maximize profit, so negate for minimization)\n",
        "\n",
        "# Includes the fixed cost for each x and y substance used and labor\n",
        "\n",
        "# Got P number from the following formula: 5.70(selling price) - 0.42(labor cost) = 5.28\n",
        "\n",
        "# Got K number from the following formula: 0.80 - 0.2(labor cost) = 0.60\n",
        "\n",
        "# Got M number from the following formula: 0.65 - 0.1(labor cost) = 0.55\n",
        "\n",
        "c = [-5.28, -1.6, -0.55, 0.25]  # Corresponding to P, K, M, T\n",
        "\n",
        "# Inequality constraints (Ax <= b)\n",
        "A_ub = [\n",
        "    [1, 1, 0, 0],  # Material X constraint: P + K <= 7500\n",
        "    [2, 0, 1, 0]   # Material Y constraint: 2P + M <= 9000\n",
        "]\n",
        "b_ub = [7500, 9000]\n",
        "\n",
        "# Equality constraints (Ax = b)\n",
        "A_eq = [\n",
        "    [-1, 1, 1, 1]  # Waste balance constraint: -P + K + M + T = 0\n",
        "]\n",
        "b_eq = [0]\n",
        "\n",
        "# Bounds for the variables (P, K, M, T >= 0)\n",
        "bounds = [(0, None), (0, None), (0, None), (0, None)]\n",
        "\n",
        "# Solve the linear programming problem\n",
        "result = linprog(c, A_ub=A_ub, b_ub=b_ub, A_eq=A_eq, b_eq=b_eq, bounds=bounds, method='highs')\n",
        "\n",
        "# Results\n",
        "P, K, M, T = result.x\n",
        "max_profit = -result.fun  # Convert back to maximization\n",
        "\n",
        "fixed_cost = 17500\n",
        "\n",
        "# cost per pound of variables\n",
        "x_var_cost = 1.33\n",
        "y_var_cost = 0.73\n",
        "\n",
        "P_profit = 5.28 * P\n",
        "K_cost = 1.6 * K\n",
        "M_cost = 1.1 * M\n",
        "T_cost = -0.25 * T\n",
        "\n",
        "total_costs = fixed_cost + T_cost\n",
        "total_revenue = P_profit + K_cost + M_cost\n",
        "\n",
        "total_profit = total_revenue - total_costs\n",
        "\n",
        "\n",
        "# Extract and display results\n",
        "print(f\"Optimal Production Plan:\")\n",
        "print(f\"Primary Product (P): {P:.2f} pounds\")\n",
        "print(f\"Secondary Product K (K): {K:.2f} pounds\")\n",
        "print(f\"Secondary Product M (M): {M:.2f} pounds\")\n",
        "print(f\"Liquid Waste Treated (T): {T:.2f} pounds\")\n",
        "print(f\"Maximum Profit: ${total_profit:.2f}\")\n",
        "\n",
        "# show profit per pound of material\n",
        "print('\\nMaterial Profit per Pound:')\n",
        "print(f\"Profit per pound of Primary Product (P): ${P_profit/P:.2f}\")\n",
        "print(f\"Profit per pound of Secondary Product K (K): ${1.60}\")\n",
        "print(f\"Profit per pound of Secondary Product M (M): ${1.10}\")\n",
        "print(f\"Profit per pound of Liquid Waste Treated (T): ${-0.25}\")\n",
        "\n",
        "print('\\nMaterial Cost per Pound:')\n",
        "print(f\"Cost per pound of variable X: ${1.33}\")\n",
        "print(f\"Cost per pound of variable Y: ${0.73}\")\n",
        "print(f\"Fixed Cost: ${fixed_cost}\\n\")\n",
        "\n",
        "# Doing sensitvity analysis of the obective function coefficients\n",
        "def objective_sensitivity():\n",
        "    base_c = c.copy()\n",
        "    sensitivity_results = {}\n",
        "\n",
        "    for i in range(len(base_c)):  # Loop through each objective function coefficient\n",
        "        for delta in [-0.1, 0.1]:  # Decrease and increase by small value\n",
        "            new_c = base_c.copy()\n",
        "            new_c[i] += delta  # Adjust one coefficient\n",
        "\n",
        "            result = linprog(new_c, A_ub=A_ub, b_ub=b_ub, A_eq=A_eq, b_eq=b_eq, bounds=bounds, method='highs')\n",
        "\n",
        "            if result.success:\n",
        "                sensitivity_results[f\"Change in Coefficient {i+1} by {delta}\"] = result.x\n",
        "            else:\n",
        "                sensitivity_results[f\"Change in Coefficient {i+1} by {delta}\"] = \"No feasible solution\"\n",
        "\n",
        "    return sensitivity_results\n",
        "\n",
        "# Run analysis\n",
        "sensitivity_results = objective_sensitivity()\n",
        "\n",
        "print(\"Sensitivity Analysis Results:\")\n",
        "for coefficient in sensitivity_results:\n",
        "    print(f\"{coefficient}: {sensitivity_results[coefficient]}\")"
      ],
      "metadata": {
        "colab": {
          "base_uri": "https://localhost:8080/"
        },
        "id": "25iPfxu0gdF1",
        "outputId": "61a3ecaf-a09f-4cad-83f9-863afa7d920f"
      },
      "execution_count": 18,
      "outputs": [
        {
          "output_type": "stream",
          "name": "stdout",
          "text": [
            "Optimal Production Plan:\n",
            "Primary Product (P): 4500.00 pounds\n",
            "Secondary Product K (K): 3000.00 pounds\n",
            "Secondary Product M (M): 0.00 pounds\n",
            "Liquid Waste Treated (T): 1500.00 pounds\n",
            "Maximum Profit: $11435.00\n",
            "\n",
            "Material Profit per Pound:\n",
            "Profit per pound of Primary Product (P): $5.28\n",
            "Profit per pound of Secondary Product K (K): $1.6\n",
            "Profit per pound of Secondary Product M (M): $1.1\n",
            "Profit per pound of Liquid Waste Treated (T): $-0.25\n",
            "\n",
            "Material Cost per Pound:\n",
            "Cost per pound of variable X: $1.33\n",
            "Cost per pound of variable Y: $0.73\n",
            "Fixed Cost: $17500\n",
            "\n",
            "Sensitivity Analysis Results:\n",
            "Change in Coefficient 1 by -0.1: [4500. 3000.    0. 1500.]\n",
            "Change in Coefficient 1 by 0.1: [4500. 3000.    0. 1500.]\n",
            "Change in Coefficient 2 by -0.1: [4500. 3000.    0. 1500.]\n",
            "Change in Coefficient 2 by 0.1: [4500. 3000.    0. 1500.]\n",
            "Change in Coefficient 3 by -0.1: [4500. 3000.    0. 1500.]\n",
            "Change in Coefficient 3 by 0.1: [4500. 3000.    0. 1500.]\n",
            "Change in Coefficient 4 by -0.1: [4500. 3000.    0. 1500.]\n",
            "Change in Coefficient 4 by 0.1: [4500. 3000.    0. 1500.]\n"
          ]
        }
      ]
    },
    {
      "cell_type": "markdown",
      "source": [
        "#### No product K"
      ],
      "metadata": {
        "id": "8_pj48pLu-JM"
      }
    },
    {
      "cell_type": "markdown",
      "source": [
        "# ***Findings***"
      ],
      "metadata": {
        "id": "IrxHoDbxi9pG"
      }
    },
    {
      "cell_type": "markdown",
      "source": [
        "## Optimal Production Plan - Operating on the assumption that the purchase price of 7,500 lbs of X and 9,000 lbs of Y have been accounted for\n",
        "\n",
        "Primary Product (P): The optimal production quantity of primary product is 4,500 pounds.\n",
        "\n",
        "Secondary Product K (K): The optimal production quantity of secondary product K is 3,000 pounds.\n",
        "\n",
        "Secondary Product M (M): The optimal production quantity of secondary product M is 0 pounds.\n",
        "\n",
        "Liquid Waste Treated (T): The optimal amount of liquid waste that should be specially treated before dumping in the Monongahela River is 1,500 pounds."
      ],
      "metadata": {
        "id": "1IjvyWXGi-Bg"
      }
    },
    {
      "cell_type": "markdown",
      "source": [
        "## Raw Material Usage\n",
        "\n",
        "Raw Material X: The optimal plan uses 4,500 pounds of raw material X for primary product production, and 3,000 pounds of raw material X for secondary product K production (fully utilizing the 7,500 pounds available).\n",
        "Raw Material Y: The optimal plan uses 9,000 pounds of raw material Y (fully utilizing the available 9,000 pounds).\n",
        "\n",
        "## Maximum Profit\n",
        "\n",
        "The optimal production and waste disposal plan yields a maximum profit of $6,260.\n",
        "\n",
        "## Accountant's Recommendation\n",
        "\n",
        "The accountant recommended eliminating product K as an alternative because it is not profitable. The analysis disproves this recommendation:\n",
        "Producing product K incurs higher costs (raw material X and direct labor) than the revenue it generates.\n",
        "Eliminating product K does not negatively impact the optimal solution.\n",
        "However, if the cost of the raw materials used for the upcoming production period needs to be accounted for, it would not be profitable to produce product K.\n",
        "\n",
        "## Sensitivity Analysis\n",
        "\n",
        "The sensitivity analysis shows that small changes (±$0.10) in profit or treatment costs do not impact the optimal solution. The company should produce 4,500 lbs of the primary product, make 3,000 lbs of product K, and treat 1,500 lbs of liquid waste. Raw material constraints, rather than profitability, are the primary limiting factor. Even if the selling price of K or M increases slightly, the optimal decision does not change. Additionally, the cost of treatment would need to rise significantly before producing K or M becomes a better alternative. To make K or M viable, their selling prices would need to increase substantially, or more raw materials would need to be available for their production.\n",
        "\n",
        "## Waste Disposal Plan\n",
        "\n",
        "The most cost-effective method for handling liquid waste, besides product K formation, is to specially treat it at a cost of $0.25 per pound. This ensures compliance with EPA regulations."
      ],
      "metadata": {
        "id": "XNjMiEXRjrJE"
      }
    },
    {
      "cell_type": "markdown",
      "source": [
        "# ***Recommendations***"
      ],
      "metadata": {
        "id": "U0vJx3iZkRFr"
      }
    },
    {
      "cell_type": "markdown",
      "source": [
        "## Production Strategy\n",
        "\n",
        "Focus on producing the primary product (4,500 pounds) as it is the most profitable. Then focus on producing product K as it minimizes the loss of waste (3,000 lbs) followed finally by specially treating the remaining waster (1,500 lbs)."
      ],
      "metadata": {
        "id": "Q6kVJrD2kO9w"
      }
    },
    {
      "cell_type": "markdown",
      "source": [
        "## Waste Disposal\n",
        "\n",
        "Treat all remaining waste that can not be converted into secondary products (1,500 pounds) to comply with EPA regulations. This is the most cost-effective option compared to converting waste into secondary products."
      ],
      "metadata": {
        "id": "KV9c--1bkGkT"
      }
    },
    {
      "cell_type": "markdown",
      "source": [
        "## Raw Material Management\n",
        "\n",
        "Revisiting Costs and Prices:\n",
        "If the costs of producing secondary products K or M decrease (e.g., lower labor costs or higher selling prices), reconsider their inclusion in the production plan.\n",
        "Regularly review raw material costs and selling prices to ensure the production plan remains optimal.\n"
      ],
      "metadata": {
        "id": "nZLCCc2RjPCW"
      }
    },
    {
      "cell_type": "markdown",
      "source": [
        "# ***Conclusion***\n",
        "\n",
        "The linear programming model provides a clear and optimal solution for SBIC to maximize profit while complying with EPA regulations. By producing 4,500 pounds of the primary product, producing 3,000 lbs of product K, and treating 1,500 lbs liquid waste, the company can achieve a maximum profit of $6,260. This approach ensures both profitability and environmental compliance."
      ],
      "metadata": {
        "id": "-M7ZHE30jEkT"
      }
    }
  ]
}
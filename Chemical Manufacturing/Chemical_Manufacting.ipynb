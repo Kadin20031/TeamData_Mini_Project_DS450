{
  "nbformat": 4,
  "nbformat_minor": 0,
  "metadata": {
    "colab": {
      "provenance": []
    },
    "kernelspec": {
      "name": "python3",
      "display_name": "Python 3"
    },
    "language_info": {
      "name": "python"
    }
  },
  "cells": [
    {
      "cell_type": "markdown",
      "source": [
        "## Before Raw Material Quantites"
      ],
      "metadata": {
        "id": "JAa2KxYMiPOQ"
      }
    },
    {
      "cell_type": "code",
      "source": [
        "from scipy.optimize import linprog\n",
        "\n",
        "# Coefficients for the objective function (maximize profit)\n",
        "# Z = 2.70P - 0.40K - 0.45M - 0.25T\n",
        "# Since linprog minimizes, we use the negative of the coefficients\n",
        "c = [-2.70, 0.40, 0.45, 0.25]\n",
        "\n",
        "# Coefficients for the inequality constraints (Ax <= b)\n",
        "A = [\n",
        "    [1, 1, 0, 0],  # Material X constraint: P + K <= 7500\n",
        "    [2, 0, 1, 0],  # Material Y constraint: 2P + M <= 9000\n",
        "    [-1, 1, 1, 1]  # Waste balance constraint: -P + K + M + T = 0\n",
        "]\n",
        "\n",
        "from scipy.optimize import linprog# Coefficients for the objective function (maximize profit)# Z = 2.70P - 0.40K - 0.45M - 0.25T# Since linprog minimizes, we use the negative of the coefficientsc = [-2.70, 0.40, 0.45, 0.25]# Coefficients for the inequality constraints (Ax <= b)A = [    [1, 1, 0, 0],  # Material X constraint: P + K <= 7500    [2, 0, 1, 0],  # Material Y constraint: 2P + M <= 9000    [-1, 1, 1, 1]  # Waste balance constraint: -P + K + M + T = 0]# Right-hand side of the inequality constraintsb = [7500, 9000, 0]# Bounds for the variables (P, K, M, T >= 0)bounds = [(0, None), (0, None), (0, None), (0, None)]# Solve the linear programming problemresult = linprog(c, A_ub=A, b_ub=b, bounds=bounds, method='highs')# Extract the resultsP, K, M, T = result.xmax_profit = -result.fun  # Convert back to maximization# Output the resultsprint(f\"Optimal Production Plan:\")print(f\"Primary Product (P): {P:.2f} pounds\")print(f\"Secondary Product K (K): {K:.2f} pounds\")print(f\"Secondary Product M (M): {M:.2f} pounds\")print(f\"Liquid Waste Treated (T): {T:.2f} pounds\")print(f\"Maximum Profit: ${max_profit:.2f}\")\n",
        "# Right-hand side of the inequality constraints\n",
        "b = [7500, 9000, 0]\n",
        "\n",
        "# Bounds for the variables (P, K, M, T >= 0)\n",
        "bounds = [(0, None), (0, None), (0, None), (0, None)]\n",
        "\n",
        "# Solve the linear programming problem\n",
        "result = linprog(c, A_ub=A, b_ub=b, bounds=bounds, method='highs')\n",
        "\n",
        "# Extract the results\n",
        "P, K, M, T = result.x\n",
        "max_profit = -result.fun  # Convert back to maximization\n",
        "\n",
        "# Output the results\n",
        "print(f\"Optimal Production Plan:\")\n",
        "print(f\"Primary Product (P): {P:.2f} pounds\")\n",
        "print(f\"Secondary Product K (K): {K:.2f} pounds\")\n",
        "print(f\"Secondary Product M (M): {M:.2f} pounds\")\n",
        "print(f\"Liquid Waste Treated (T): {T:.2f} pounds\")\n",
        "print(f\"Maximum Profit: ${max_profit:.2f}\")"
      ],
      "metadata": {
        "colab": {
          "base_uri": "https://localhost:8080/"
        },
        "id": "25iPfxu0gdF1",
        "outputId": "1ccd2ac9-aa34-434b-f42f-bf330ee8f188"
      },
      "execution_count": 5,
      "outputs": [
        {
          "output_type": "stream",
          "name": "stdout",
          "text": [
            "Optimal Production Plan:\n",
            "Primary Product (P): 4500.00 pounds\n",
            "Secondary Product K (K): 0.00 pounds\n",
            "Secondary Product M (M): 0.00 pounds\n",
            "Liquid Waste Treated (T): 0.00 pounds\n",
            "Maximum Profit: $12150.00\n"
          ]
        }
      ]
    },
    {
      "cell_type": "markdown",
      "source": [
        "## After Raw Material Quantities"
      ],
      "metadata": {
        "id": "RCvlbdrEiXbR"
      }
    },
    {
      "cell_type": "markdown",
      "source": [
        "We will introduce two new decision variables to track the usage of raw materials:\n",
        "\n",
        "\n",
        "\n",
        "\n",
        "\n"
      ],
      "metadata": {
        "id": "nJz7rHr2kvKL"
      }
    },
    {
      "cell_type": "code",
      "source": [
        "from scipy.optimize import linprog\n",
        "\n",
        "# Function to calculate and display raw material usage\n",
        "def calculate_raw_material_usage(P, K, M):\n",
        "    \"\"\"\n",
        "    Calculate the usage of raw materials X and Y based on production quantities.\n",
        "\n",
        "    Args:\n",
        "        P (float): Pounds of primary product produced.\n",
        "        K (float): Pounds of secondary product K produced.\n",
        "        M (float): Pounds of secondary product M produced.\n",
        "\n",
        "    Returns:\n",
        "        dict: A dictionary containing the usage of raw materials X and Y.\n",
        "    \"\"\"\n",
        "    X_used = P + K  # Each pound of P and K requires 1 pound of X\n",
        "    Y_used = 2 * P + M  # Each pound of P requires 2 pounds of Y, and each pound of M requires 1 pound of Y\n",
        "    return {\"X_used\": X_used, \"Y_used\": Y_used}\n",
        "\n",
        "# Coefficients for the objective function (maximize profit)\n",
        "# Z = 2.70P - 0.40K - 0.45M - 0.25T\n",
        "# Since linprog minimizes, we use the negative of the coefficients\n",
        "c = [-2.70, 0.40, 0.45, 0.25]\n",
        "\n",
        "# Coefficients for the inequality constraints (Ax <= b)\n",
        "A = [\n",
        "    [1, 1, 0, 0],  # Material X constraint: P + K <= 7500\n",
        "    [2, 0, 1, 0],  # Material Y constraint: 2P + M <= 9000\n",
        "    [-1, 1, 1, 1]  # Waste balance constraint: -P + K + M + T = 0\n",
        "]\n",
        "\n",
        "# Right-hand side of the inequality constraints\n",
        "b = [7500, 9000, 0]\n",
        "\n",
        "# Bounds for the variables (P, K, M, T >= 0)\n",
        "bounds = [(0, None), (0, None), (0, None), (0, None)]\n",
        "\n",
        "# Solve the linear programming problem\n",
        "result = linprog(c, A_ub=A, b_ub=b, bounds=bounds, method='highs')\n",
        "\n",
        "# Extract the results\n",
        "P, K, M, T = result.x\n",
        "max_profit = -result.fun  # Convert back to maximization\n",
        "\n",
        "# Calculate raw material usage using the separate function\n",
        "raw_material_usage = calculate_raw_material_usage(P, K, M)\n",
        "X_used = raw_material_usage[\"X_used\"]\n",
        "Y_used = raw_material_usage[\"Y_used\"]\n",
        "\n",
        "# Output the results\n",
        "print(f\"Optimal Production Plan:\")\n",
        "print(f\"Primary Product (P): {P:.2f} pounds\")\n",
        "print(f\"Secondary Product K (K): {K:.2f} pounds\")\n",
        "print(f\"Secondary Product M (M): {M:.2f} pounds\")\n",
        "print(f\"Liquid Waste Treated (T): {T:.2f} pounds\")\n",
        "print(f\"\\nRaw Material Usage:\")\n",
        "print(f\"Raw Material X Used: {X_used:.2f} pounds (Available: 7,500 pounds)\")\n",
        "print(f\"Raw Material Y Used: {Y_used:.2f} pounds (Available: 9,000 pounds)\")\n",
        "print(f\"\\nMaximum Profit: ${max_profit:.2f}\")"
      ],
      "metadata": {
        "colab": {
          "base_uri": "https://localhost:8080/"
        },
        "id": "-9P3GohOh7bU",
        "outputId": "d24f6922-7b0c-4b88-f380-5d9cf9fda901"
      },
      "execution_count": 4,
      "outputs": [
        {
          "output_type": "stream",
          "name": "stdout",
          "text": [
            "Optimal Production Plan:\n",
            "Primary Product (P): 4500.00 pounds\n",
            "Secondary Product K (K): 0.00 pounds\n",
            "Secondary Product M (M): 0.00 pounds\n",
            "Liquid Waste Treated (T): 0.00 pounds\n",
            "\n",
            "Raw Material Usage:\n",
            "Raw Material X Used: 4500.00 pounds (Available: 7,500 pounds)\n",
            "Raw Material Y Used: 9000.00 pounds (Available: 9,000 pounds)\n",
            "\n",
            "Maximum Profit: $12150.00\n"
          ]
        }
      ]
    },
    {
      "cell_type": "markdown",
      "source": [
        "# ***Findings***"
      ],
      "metadata": {
        "id": "IrxHoDbxi9pG"
      }
    },
    {
      "cell_type": "markdown",
      "source": [
        "## Optimal Production Plan\n",
        "\n",
        "Primary Product (P): The optimal production quantity is 4,500 pounds.\n",
        "\n",
        "Secondary Product K (K): It is not profitable to produce secondary product K, so the optimal quantity is 0 pounds.\n",
        "\n",
        "Secondary Product M (M): It is also not profitable to produce secondary product M, so the optimal quantity is 0 pounds.\n",
        "\n",
        "Liquid Waste Treated (T): All liquid waste generated (4,500 pounds) should be specially treated and dumped into the river to comply with EPA regulations."
      ],
      "metadata": {
        "id": "1IjvyWXGi-Bg"
      }
    },
    {
      "cell_type": "markdown",
      "source": [
        "## Raw Material Usage\n",
        "\n",
        "Raw Material X: The optimal plan uses 4,500 pounds of raw material X (out of 7,500 pounds available).\n",
        "Raw Material Y: The optimal plan uses 9,000 pounds of raw material Y (fully utilizing the available 9,000 pounds).\n",
        "\n",
        "## Maximum Profit\n",
        "\n",
        "The optimal production and waste disposal plan yields a maximum profit of $12,150.\n",
        "\n",
        "## Accountant's Recommendation\n",
        "\n",
        "The accountant recommended eliminating product K as an alternative because it is not profitable. The analysis confirms this recommendation:\n",
        "Producing product K incurs higher costs (raw material X and direct labor) than the revenue it generates.\n",
        "Eliminating product K does not negatively impact the optimal solution.\n",
        "\n",
        "## Sensitivity Analysis\n",
        "\n",
        "The profit is highly sensitive to the availability of raw material Y, as it is fully utilized in the optimal plan. Acquiring additional raw material Y could increase production and profit.\n",
        "The profit is less sensitive to raw material X, as there is unused capacity (3,000 pounds remaining).\n",
        "\n",
        "## Waste Disposal Plan\n",
        "\n",
        "The most cost-effective method for handling liquid waste is to specially treat it at a cost of $0.25 per pound. This ensures compliance with EPA regulations without incurring the higher costs associated with producing secondary products K or M."
      ],
      "metadata": {
        "id": "XNjMiEXRjrJE"
      }
    },
    {
      "cell_type": "markdown",
      "source": [
        "# ***Recommendations***"
      ],
      "metadata": {
        "id": "U0vJx3iZkRFr"
      }
    },
    {
      "cell_type": "markdown",
      "source": [
        "## Production Strategy\n",
        "\n",
        "Focus on producing the primary product (4,500 pounds) as it is the most profitable.\n",
        "Do not produce secondary products K or M, as they are not profitable given the current costs and selling prices."
      ],
      "metadata": {
        "id": "Q6kVJrD2kO9w"
      }
    },
    {
      "cell_type": "markdown",
      "source": [
        "## Waste Disposal\n",
        "\n",
        "Treat all liquid waste (4,500 pounds) to comply with EPA regulations. This is the most cost-effective option compared to converting waste into secondary products."
      ],
      "metadata": {
        "id": "KV9c--1bkGkT"
      }
    },
    {
      "cell_type": "markdown",
      "source": [
        "## Raw Material Management\n",
        "\n",
        "Raw Material Y is a limiting factor in production. Acquiring additional raw material Y could increase production and profit.\n",
        "Raw Material X has unused capacity (3,000 pounds), so no immediate action is needed unless production scales up.\n",
        "Revisiting Costs and Prices:\n",
        "If the costs of producing secondary products K or M decrease (e.g., lower labor costs or higher selling prices), reconsider their inclusion in the production plan.\n",
        "Regularly review raw material costs and selling prices to ensure the production plan remains optimal.\n"
      ],
      "metadata": {
        "id": "nZLCCc2RjPCW"
      }
    },
    {
      "cell_type": "markdown",
      "source": [
        "# ***Conclusion***\n",
        "\n",
        "The linear programming model provides a clear and optimal solution for SBIC to maximize profit while complying with EPA regulations. By producing 4,500 pounds of the primary product, treating all liquid waste, and avoiding the production of unprofitable secondary products, the company can achieve a maximum profit of $12,150. The analysis also highlights the importance of raw material Y as a limiting factor and validates the accountant's recommendation to eliminate product K. This approach ensures both profitability and environmental compliance."
      ],
      "metadata": {
        "id": "-M7ZHE30jEkT"
      }
    }
  ]
}